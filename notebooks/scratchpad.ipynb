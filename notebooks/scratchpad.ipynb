{
 "cells": [
  {
   "cell_type": "code",
   "execution_count": 1,
   "id": "ordered-spyware",
   "metadata": {},
   "outputs": [],
   "source": [
    "import pyvisa"
   ]
  },
  {
   "cell_type": "code",
   "execution_count": 2,
   "id": "enabling-france",
   "metadata": {},
   "outputs": [],
   "source": [
    "rm = pyvisa.ResourceManager('@py')"
   ]
  },
  {
   "cell_type": "code",
   "execution_count": 3,
   "id": "periodic-prophet",
   "metadata": {},
   "outputs": [
    {
     "data": {
      "text/plain": [
       "('ASRL3::INSTR', 'ASRL1::INSTR', 'ASRL4::INSTR')"
      ]
     },
     "execution_count": 3,
     "metadata": {},
     "output_type": "execute_result"
    }
   ],
   "source": [
    "# list resources\n",
    "rm.list_resources()"
   ]
  },
  {
   "cell_type": "code",
   "execution_count": 4,
   "id": "arbitrary-likelihood",
   "metadata": {},
   "outputs": [],
   "source": [
    "# intended instrument\n",
    "inst = rm.open_resource(\"ASRL4::INSTR\")"
   ]
  },
  {
   "cell_type": "code",
   "execution_count": 5,
   "id": "basic-detroit",
   "metadata": {},
   "outputs": [
    {
     "name": "stdout",
     "output_type": "stream",
     "text": [
      "Model: Cryo-con,22C,205608,3.14A\n",
      "\n",
      "CH-A: Temperature: 312.191100\n",
      "\n",
      "CH-A: Setpoint: 300.000000K\n",
      "\n",
      "CH-B: Temperature: .......\n",
      "\n",
      "CH-B: Setpoint: 300.000000K\n",
      "\n",
      "Heater controls: OFF\n",
      "\n"
     ]
    }
   ],
   "source": [
    "print(\"Model:\", inst.query(\"*IDN?\"))\n",
    "print(\"CH-A: Temperature:\", inst.query(\"INPut A:UNITs K;TEMPer?\"))\n",
    "print(\"CH-A: Setpoint:\", inst.query(\"LOOP 1:SETPt?\"))\n",
    "\n",
    "print(\"CH-B: Temperature:\", inst.query(\"INPut B:UNITs K;TEMPer?\"))\n",
    "print(\"CH-B: Setpoint:\", inst.query(\"LOOP 2:SETPt?\"))\n",
    "\n",
    "print(\"Heater controls:\", inst.query(\"CONTROL?;\"))"
   ]
  },
  {
   "cell_type": "code",
   "execution_count": 16,
   "id": "mechanical-progress",
   "metadata": {},
   "outputs": [
    {
     "name": "stdout",
     "output_type": "stream",
     "text": [
      "\r\n",
      "\n"
     ]
    }
   ],
   "source": [
    "# turn on heater control\n",
    "# print(inst.query(\"CONTROL;\"))"
   ]
  },
  {
   "cell_type": "code",
   "execution_count": 18,
   "id": "other-writer",
   "metadata": {},
   "outputs": [
    {
     "name": "stdout",
     "output_type": "stream",
     "text": [
      "\r\n",
      "\n"
     ]
    }
   ],
   "source": [
    "# turn off heater control\n",
    "print(inst.query(\"STOP;\"))"
   ]
  },
  {
   "cell_type": "code",
   "execution_count": 6,
   "id": "japanese-rocket",
   "metadata": {},
   "outputs": [],
   "source": [
    "# disconnect instrument\n",
    "inst.close()"
   ]
  },
  {
   "cell_type": "code",
   "execution_count": 7,
   "id": "touched-phoenix",
   "metadata": {},
   "outputs": [],
   "source": [
    "inst._session"
   ]
  },
  {
   "cell_type": "code",
   "execution_count": 9,
   "id": "tired-power",
   "metadata": {},
   "outputs": [],
   "source": [
    "# close resource manager\n",
    "rm.close()"
   ]
  },
  {
   "cell_type": "code",
   "execution_count": null,
   "id": "sustained-state",
   "metadata": {},
   "outputs": [],
   "source": []
  },
  {
   "cell_type": "code",
   "execution_count": null,
   "id": "juvenile-playlist",
   "metadata": {},
   "outputs": [],
   "source": []
  },
  {
   "cell_type": "code",
   "execution_count": 72,
   "id": "abroad-serbia",
   "metadata": {},
   "outputs": [],
   "source": [
    "import pyvisa\n",
    "\n",
    "class Device():\n",
    "    def __init__(self, name):\n",
    "        \"\"\"Initialize a device attributes\"\"\"\n",
    "        self.name = name\n",
    "        self.timeout = 1000\n",
    "        self.baud = 9600\n",
    "        self.read_termination='\\r\\n'\n",
    "        self.write_termination='\\r\\n'\n",
    "        self.backend='@py'\n",
    "        self.handshake=False\n",
    "        self.inst = None\n",
    "        \n",
    "        self.__rm = pyvisa.ResourceManager(self.backend)\n",
    "    \n",
    "    def set_backend(self, backend):\n",
    "        \"\"\"Set the communication backend\"\"\"\n",
    "        if backend not in ['@py', 'ni-visa']:\n",
    "            raise RuntimeError(\"Supported backends are: '@py', 'ni-visa'\")\n",
    "        else:\n",
    "            self.backend = backend\n",
    "            print(\"Success! Backend set to\", backend)\n",
    "        \n",
    "    def set_timeout(self, timeout):\n",
    "        \"\"\"Set the connection timeout\"\"\"\n",
    "        if (timeout > 60 * 60 * 1000):\n",
    "            raise ValueError(\"Too large timeout value (> 1 hr).\")\n",
    "        else:\n",
    "            self.timeout = timeout\n",
    "\n",
    "    def set_baud(self, baud):\n",
    "        \"\"\"Set the bit rate\"\"\"\n",
    "        self.baud = baud\n",
    "\n",
    "    def status(self):\n",
    "        \"\"\"Simulates the instrument front panel with various information\"\"\"\n",
    "        if self.inst._session:\n",
    "            print(\"Connected to:\", self.inst)\n",
    "            print(\"Session:\", self.inst._session)\n",
    "        else:\n",
    "            print(\"No active session!\")\n",
    "        \n",
    "    def connect(self, port):\n",
    "        if port.upper() not in self.__rm.list_resources():\n",
    "            raise RuntimeError(\"No such port. Available ports:\", self.__rm.list_resources())\n",
    "        else:\n",
    "            self.inst = self.__rm.open_resource(port)\n",
    "            \n",
    "    def disconnect(self):\n",
    "        \"\"\"Disconnects the instrument\"\"\"\n",
    "        self.inst.close()\n",
    "            "
   ]
  },
  {
   "cell_type": "code",
   "execution_count": 73,
   "id": "middle-stockholm",
   "metadata": {},
   "outputs": [],
   "source": [
    "cryocon = Device(\"cryocon\")"
   ]
  },
  {
   "cell_type": "code",
   "execution_count": 79,
   "id": "strong-television",
   "metadata": {},
   "outputs": [],
   "source": [
    "cryocon.connect(\"ASRL4::INSTR\")"
   ]
  },
  {
   "cell_type": "code",
   "execution_count": 76,
   "id": "nutritional-capital",
   "metadata": {},
   "outputs": [],
   "source": [
    "cryocon.disconnect()"
   ]
  },
  {
   "cell_type": "code",
   "execution_count": 92,
   "id": "sonic-canberra",
   "metadata": {},
   "outputs": [],
   "source": [
    "cryocon.inst.close()"
   ]
  },
  {
   "cell_type": "code",
   "execution_count": 10,
   "id": "elect-young",
   "metadata": {},
   "outputs": [
    {
     "ename": "NameError",
     "evalue": "name 'cryocon' is not defined",
     "output_type": "error",
     "traceback": [
      "\u001b[1;31m---------------------------------------------------------------------------\u001b[0m",
      "\u001b[1;31mNameError\u001b[0m                                 Traceback (most recent call last)",
      "\u001b[1;32m<ipython-input-10-36723e101a8e>\u001b[0m in \u001b[0;36m<module>\u001b[1;34m\u001b[0m\n\u001b[1;32m----> 1\u001b[1;33m \u001b[0mcryocon\u001b[0m\u001b[1;33m.\u001b[0m\u001b[0minst\u001b[0m\u001b[1;33m.\u001b[0m\u001b[0mresource_name\u001b[0m\u001b[1;33m\u001b[0m\u001b[1;33m\u001b[0m\u001b[0m\n\u001b[0m",
      "\u001b[1;31mNameError\u001b[0m: name 'cryocon' is not defined"
     ]
    }
   ],
   "source": [
    "cryocon.inst.resource_name"
   ]
  },
  {
   "cell_type": "code",
   "execution_count": null,
   "id": "warming-requirement",
   "metadata": {},
   "outputs": [],
   "source": []
  }
 ],
 "metadata": {
  "kernelspec": {
   "display_name": "Python 3",
   "language": "python",
   "name": "python3"
  },
  "language_info": {
   "codemirror_mode": {
    "name": "ipython",
    "version": 3
   },
   "file_extension": ".py",
   "mimetype": "text/x-python",
   "name": "python",
   "nbconvert_exporter": "python",
   "pygments_lexer": "ipython3",
   "version": "3.9.2"
  }
 },
 "nbformat": 4,
 "nbformat_minor": 5
}
